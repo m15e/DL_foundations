{
 "cells": [
  {
   "cell_type": "markdown",
   "source": [
    "## Fastai Part 2 Notes\n",
    "\n",
    "3 Steps to building a good model\n",
    "\n",
    "1. Overfit\n",
    "2. Reduce over-fitting\n",
    "3. There is no step 3\n",
    "\n",
    "5 Steps to avoiding overfitting\n",
    "\n",
    "1. More data\n",
    "2. Data augmentation\n",
    "3. Change to more generalizable architectures\n",
    "4. Regularization\n",
    "5. Reduce architecture complexity\n",
    "\n",
    "Tips for reading papers\n",
    "\n",
    "1. Find other sources and code explaining the papers\n",
    "2. Wikipedia has a page with all the mathematical sybols listed\n",
    "3. Detexify - uses ML to describe symbol"
   ],
   "metadata": {}
  },
  {
   "cell_type": "code",
   "execution_count": 1,
   "source": [
    "#export\n",
    "TEST = 'test'"
   ],
   "outputs": [],
   "metadata": {}
  },
  {
   "cell_type": "markdown",
   "source": [
    "Notebook2script uses a library called Fire to turn notebooks into commandline-interfaces\n",
    "\n",
    "Jupyter notebooks are basically just json"
   ],
   "metadata": {}
  },
  {
   "cell_type": "code",
   "execution_count": 6,
   "source": [
    "!python notebook2script.py 00_fai_2_l8.ipynb"
   ],
   "outputs": [
    {
     "output_type": "stream",
     "name": "stdout",
     "text": [
      "Converted 00_fai_2_l8.ipynb to exp/nb_00.py\n"
     ]
    }
   ],
   "metadata": {}
  },
  {
   "cell_type": "code",
   "execution_count": 4,
   "source": [
    "# to check out Notebook json\n",
    "\n",
    "import json\n",
    "d = json.load(open('00_fai_2_l8.ipynb'))['cells']"
   ],
   "outputs": [],
   "metadata": {}
  },
  {
   "cell_type": "code",
   "execution_count": 3,
   "source": [
    "d[1]"
   ],
   "outputs": [
    {
     "output_type": "execute_result",
     "data": {
      "text/plain": [
       "{'cell_type': 'code',\n",
       " 'execution_count': 6,\n",
       " 'source': ['#export\\n', \"TEST = 'test'\"],\n",
       " 'outputs': [],\n",
       " 'metadata': {}}"
      ]
     },
     "metadata": {},
     "execution_count": 3
    }
   ],
   "metadata": {}
  },
  {
   "cell_type": "code",
   "execution_count": null,
   "source": [],
   "outputs": [],
   "metadata": {}
  }
 ],
 "metadata": {
  "orig_nbformat": 4,
  "language_info": {
   "name": "python",
   "version": "3.8.10",
   "mimetype": "text/x-python",
   "codemirror_mode": {
    "name": "ipython",
    "version": 3
   },
   "pygments_lexer": "ipython3",
   "nbconvert_exporter": "python",
   "file_extension": ".py"
  },
  "kernelspec": {
   "name": "python3",
   "display_name": "Python 3.8.10 64-bit ('ml_env': conda)"
  },
  "interpreter": {
   "hash": "8dd6d6de8d8a4891726ce722ab17bfdf4b4e57ffb9a6cdf4995bb0f694414620"
  }
 },
 "nbformat": 4,
 "nbformat_minor": 2
}